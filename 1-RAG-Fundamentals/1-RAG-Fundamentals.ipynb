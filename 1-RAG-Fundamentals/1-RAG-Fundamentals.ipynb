{
 "cells": [
  {
   "cell_type": "code",
   "execution_count": null,
   "metadata": {},
   "outputs": [],
   "source": [
    "!pip install azure-ai-inference[opentelemetry]\n",
    "!pip install azure-search-documents \n",
    "!pip install azure-identity\n",
    "!pip install openai"
   ]
  },
  {
   "cell_type": "markdown",
   "metadata": {},
   "source": [
    "## Setup API Clients"
   ]
  },
  {
   "cell_type": "code",
   "execution_count": 1,
   "metadata": {},
   "outputs": [],
   "source": [
    "import os\n",
    "from azure.identity import DefaultAzureCredential, get_bearer_token_provider\n",
    "from azure.core.credentials import AzureKeyCredential\n",
    "from openai import AzureOpenAI\n",
    "from azure.search.documents import SearchClient\n",
    "import dotenv\n",
    "from azure.search.documents.models import VectorizedQuery, VectorizableTextQuery\n",
    "\n",
    "dotenv.load_dotenv()\n",
    "\n",
    "# Load Azure OpenAI environment variables\n",
    "AZURE_OPENAI_ENDPOINT = os.getenv(\"AZURE_OPENAI_ENDPOINT\")\n",
    "AZURE_OPENAI_API_KEY = os.getenv(\"AZURE_OPENAI_API_KEY\")\n",
    "AZURE_OPENAI_CHAT_COMPLETION_DEPLOYED_MODEL_NAME = os.getenv(\"AZURE_OPENAI_CHAT_COMPLETION_DEPLOYED_MODEL_NAME\")\n",
    "\n",
    "# Load Azure Search environment variables\n",
    "AZURE_SEARCH_ENDPOINT = os.getenv(\"AZURE_SEARCH_SERVICE_ENDPOINT\")\n",
    "AZURE_SEARCH_INDEX_NAME = os.getenv(\"AZURE_SEARCH_INDEX_NAME\")\n",
    "AZURE_SEARCH_ADMIN_KEY = os.getenv(\"AZURE_SEARCH_ADMIN_KEY\")\n",
    "\n",
    "# 🔹 Initialize Azure OpenAI Client (API Key or Managed Identity)\n",
    "if AZURE_OPENAI_API_KEY:\n",
    "    openai_client = AzureOpenAI(\n",
    "        api_key=AZURE_OPENAI_API_KEY,\n",
    "        azure_endpoint=AZURE_OPENAI_ENDPOINT,\n",
    "        api_version=\"2024-10-21\"\n",
    "    )\n",
    "else:\n",
    "    azure_credential = DefaultAzureCredential()\n",
    "    token_provider = get_bearer_token_provider(azure_credential, \"https://cognitiveservices.azure.com/.default\")\n",
    "    openai_client = AzureOpenAI(\n",
    "        azure_ad_token_provider=token_provider,\n",
    "        azure_endpoint=AZURE_OPENAI_ENDPOINT,\n",
    "        api_version=\"2024-10-21\"\n",
    "    )\n",
    "\n",
    "# 🔹 Initialize Azure AI Search Client (API Key or Managed Identity)\n",
    "if AZURE_SEARCH_ADMIN_KEY:\n",
    "    search_client = SearchClient(\n",
    "        endpoint=AZURE_SEARCH_ENDPOINT,\n",
    "        index_name=AZURE_SEARCH_INDEX_NAME,\n",
    "        credential=AzureKeyCredential(AZURE_SEARCH_ADMIN_KEY)\n",
    "    )\n",
    "else:\n",
    "    azure_credential = DefaultAzureCredential()\n",
    "    search_client = SearchClient(\n",
    "        endpoint=AZURE_SEARCH_ENDPOINT,\n",
    "        index_name=AZURE_SEARCH_INDEX_NAME,\n",
    "        credential=azure_credential\n",
    "    )\n",
    "\n",
    "def get_embedding(text):\n",
    "    return openai_client.embeddings.create(\n",
    "        model=os.getenv(\"AZURE_OPENAI_EMBEDDING_DEPLOYED_MODEL_NAME\"),\n",
    "        input=text\n",
    "    ).data[0].embedding"
   ]
  },
  {
   "cell_type": "markdown",
   "metadata": {},
   "source": [
    "## Prepare a question"
   ]
  },
  {
   "cell_type": "code",
   "execution_count": null,
   "metadata": {},
   "outputs": [],
   "source": [
    "user_question = \"What is included in my Northwind Health Plus plan that is not in standard?\"\n",
    "user_question_vector = get_embedding(user_question)\n",
    "print(user_question_vector)"
   ]
  },
  {
   "cell_type": "markdown",
   "metadata": {},
   "source": [
    "## Retrieve matching documents"
   ]
  },
  {
   "cell_type": "code",
   "execution_count": null,
   "metadata": {},
   "outputs": [],
   "source": [
    "search_results = search_client.search(\n",
    "    None,\n",
    "    vector_queries=[\n",
    "        VectorizableTextQuery( # Using Azure AI Search vectorizer\n",
    "            text=user_question, k_nearest_neighbors=10, fields=\"text_vector\"\n",
    "        )\n",
    "    ],\n",
    ")\n",
    "\n",
    "# Print Results\n",
    "for result in search_results:\n",
    "    print(\"Chunk ID:\", result[\"chunk_id\"])\n",
    "    print(\"Title:\", result[\"title\"])\n",
    "    print(\"Text:\", result[\"chunk\"])\n",
    "    print()"
   ]
  },
  {
   "cell_type": "markdown",
   "metadata": {},
   "source": [
    "## RAG TIME!"
   ]
  },
  {
   "cell_type": "code",
   "execution_count": 5,
   "metadata": {},
   "outputs": [
    {
     "name": "stdout",
     "output_type": "stream",
     "text": [
      "The Northwind Health Plus plan includes additional benefits such as preventive care, wellness programs, and enhanced coverage options that are not typically included in standard plans.\n"
     ]
    }
   ],
   "source": [
    "# First, let's collect the context from search results\n",
    "context = \"\"\n",
    "for result in search_results:\n",
    "    context += result[\"chunk\"] + \"\\n\\n\"\n",
    "\n",
    "SYSTEM_MESSAGE = f\"\"\"\n",
    "You are an AI Assistant.\n",
    "Be brief in your answers. Answer ONLY with the facts listed in the retrieved text.\n",
    "\n",
    "Context:\n",
    "{context}\n",
    "\"\"\"\n",
    "\n",
    "USER_MESSAGE = user_question\n",
    "\n",
    "response = openai_client.chat.completions.create(\n",
    "    model=os.getenv(\"AZURE_OPENAI_CHAT_COMPLETION_DEPLOYED_MODEL_NAME\"),\n",
    "    temperature=0.7,\n",
    "    messages=[\n",
    "        {\"role\": \"system\", \"content\": SYSTEM_MESSAGE},\n",
    "        {\"role\": \"user\", \"content\": USER_MESSAGE},\n",
    "    ],\n",
    ")\n",
    "\n",
    "answer = response.choices[0].message.content\n",
    "print(answer)\n"
   ]
  }
 ],
 "metadata": {
  "kernelspec": {
   "display_name": "Python 3",
   "language": "python",
   "name": "python3"
  },
  "language_info": {
   "codemirror_mode": {
    "name": "ipython",
    "version": 3
   },
   "file_extension": ".py",
   "mimetype": "text/x-python",
   "name": "python",
   "nbconvert_exporter": "python",
   "pygments_lexer": "ipython3",
   "version": "3.11.9"
  }
 },
 "nbformat": 4,
 "nbformat_minor": 2
}
